{
 "cells": [
  {
   "cell_type": "code",
   "execution_count": 3,
   "id": "81ac0d8a-2a63-478b-805a-72014a0c034b",
   "metadata": {},
   "outputs": [
    {
     "ename": "ModuleNotFoundError",
     "evalue": "No module named 'functionmonitor'",
     "output_type": "error",
     "traceback": [
      "\u001b[0;31m---------------------------------------------------------------------------\u001b[0m",
      "\u001b[0;31mModuleNotFoundError\u001b[0m                       Traceback (most recent call last)",
      "Cell \u001b[0;32mIn[3], line 1\u001b[0m\n\u001b[0;32m----> 1\u001b[0m \u001b[38;5;28;01mimport\u001b[39;00m \u001b[38;5;21;01mfunctionmonitor\u001b[39;00m\n",
      "\u001b[0;31mModuleNotFoundError\u001b[0m: No module named 'functionmonitor'"
     ]
    }
   ],
   "source": [
    "import functionmonitor"
   ]
  },
  {
   "cell_type": "code",
   "execution_count": null,
   "id": "a17ea62a-c64b-45bf-a79b-57822a9d2619",
   "metadata": {},
   "outputs": [],
   "source": [
    "# Initialize the FunctionMonitor with variable creation and debug-level logging\n",
    "fm = functionmonitor.get_fm(create_variables=True)"
   ]
  },
  {
   "cell_type": "code",
   "execution_count": null,
   "id": "40fcd769-1e21-494c-a2d7-45356893f5a5",
   "metadata": {},
   "outputs": [],
   "source": [
    "\n",
    "\n",
    "# Define a function to simulate different tasks\n",
    "def simulated_task(task_name, duration):\n",
    "    import time\n",
    "    import random\n",
    "    time.sleep(duration)\n",
    "    outcome = random.choice([\"Success\", \"Failure\", \"Partial Success\"])\n",
    "    return f\"Task {task_name} completed with {outcome} after {duration} seconds.\"\n",
    "\n",
    "# Submit various tasks with different sleep times and outcomes\n",
    "fm['task_short'] = lambda: simulated_task(\"Short Task\", 3)\n",
    "fm['task_medium'] = lambda: simulated_task(\"Medium Task\", 6)\n",
    "fm['task_long'] = lambda: simulated_task(\"Long Task\", 10)\n",
    "fm['task_longer'] = lambda: simulated_task(\"Longer Task\", 12)\n",
    "fm['task_extra_long'] = lambda: simulated_task(\"Extra Long Task\", 15)\n",
    "\n",
    "# Track additional duplicate tasks\n",
    "fm['task_short_dupe'] = lambda: simulated_task(\"Short Task (Dupe)\", 3)\n",
    "fm['task_medium_dupe'] = lambda: simulated_task(\"Medium Task (Dupe)\", 6)\n",
    "\n",
    "# Monitor and fetch the results\n",
    "import time\n",
    "\n",
    "# Simulate periodic checks for task status and results\n",
    "print(\"Monitoring task progress...\\n\")\n",
    "while True:\n",
    "    # Fetch and display results for each task if available\n",
    "    completed_tasks = []\n",
    "    for task_name in fm.futures:\n",
    "        if fm.futures[task_name].done():\n",
    "            try:\n",
    "                result = fm[task_name]\n",
    "                print(f\"Result for {task_name}: {result}\")\n",
    "            except Exception as e:\n",
    "                print(f\"{task_name} encountered an error: {e}\")\n",
    "            completed_tasks.append(task_name)\n",
    "\n",
    "    # Break the loop when all tasks are completed\n",
    "    if len(completed_tasks) == len(fm.futures):\n",
    "        print(\"\\nAll tasks completed.\")\n",
    "        break\n",
    "\n",
    "    # Wait a bit before checking the status again\n",
    "    time.sleep(2)\n"
   ]
  }
 ],
 "metadata": {
  "kernelspec": {
   "display_name": "Python 3 (ipykernel)",
   "language": "python",
   "name": "python3"
  },
  "language_info": {
   "codemirror_mode": {
    "name": "ipython",
    "version": 3
   },
   "file_extension": ".py",
   "mimetype": "text/x-python",
   "name": "python",
   "nbconvert_exporter": "python",
   "pygments_lexer": "ipython3",
   "version": "3.10.9"
  }
 },
 "nbformat": 4,
 "nbformat_minor": 5
}
