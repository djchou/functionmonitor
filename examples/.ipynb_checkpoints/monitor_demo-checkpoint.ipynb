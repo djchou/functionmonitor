{
 "cells": [
  {
   "cell_type": "code",
   "execution_count": null,
   "id": "e32108bf-af42-4afe-aead-4d3277b67445",
   "metadata": {},
   "outputs": [],
   "source": [
    "import functionmonitor"
   ]
  },
  {
   "cell_type": "code",
   "execution_count": null,
   "id": "fdaab07e-7e85-4ff6-acc7-b395bd0d5c8b",
   "metadata": {},
   "outputs": [],
   "source": [
    "# Initialize the FunctionMonitor with variable creation\n",
    "fm = functionmonitor.get_fm(create_variables=True)"
   ]
  },
  {
   "cell_type": "code",
   "execution_count": null,
   "id": "9d79ed0a-d75e-4019-afdb-00e7342cbb03",
   "metadata": {},
   "outputs": [],
   "source": [
    "# Define a function to simulate different tasks\n",
    "def simulated_task(task_name, duration):\n",
    "    import time\n",
    "    import random\n",
    "    time.sleep(duration)\n",
    "    outcome = random.choice([\"Success\", \"Failure\", \"Partial Success\"])\n",
    "    return f\"Task {task_name} completed with {outcome} after {duration} seconds.\"\n",
    "\n",
    "# Submit various tasks with different sleep times and outcomes\n",
    "fm['task_short'] = lambda: simulated_task(\"Short Task\", 3)\n",
    "fm['task_medium'] = lambda: simulated_task(\"Medium Task\", 6)\n",
    "fm['task_long'] = lambda: simulated_task(\"Long Task\", 10)\n"
   ]
  },
  {
   "cell_type": "code",
   "execution_count": null,
   "id": "c2433b9b-3f94-47f7-bcd3-0cfd54d3c81f",
   "metadata": {},
   "outputs": [],
   "source": [
    "task_short # variable doesnt exist yet because function isnt finished"
   ]
  },
  {
   "cell_type": "code",
   "execution_count": null,
   "id": "568936b0-a391-44c5-a415-cd1eeb54340f",
   "metadata": {},
   "outputs": [],
   "source": [
    "task_short # variable exists because function is finished"
   ]
  },
  {
   "cell_type": "code",
   "execution_count": null,
   "id": "ffc2ecfb-d85e-42a7-8359-4461d1ffc6da",
   "metadata": {},
   "outputs": [],
   "source": []
  }
 ],
 "metadata": {
  "kernelspec": {
   "display_name": "Python 3 (ipykernel)",
   "language": "python",
   "name": "python3"
  },
  "language_info": {
   "codemirror_mode": {
    "name": "ipython",
    "version": 3
   },
   "file_extension": ".py",
   "mimetype": "text/x-python",
   "name": "python",
   "nbconvert_exporter": "python",
   "pygments_lexer": "ipython3",
   "version": "3.10.9"
  }
 },
 "nbformat": 4,
 "nbformat_minor": 5
}
